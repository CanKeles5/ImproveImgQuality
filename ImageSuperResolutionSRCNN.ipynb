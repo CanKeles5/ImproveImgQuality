{
  "nbformat": 4,
  "nbformat_minor": 0,
  "metadata": {
    "accelerator": "GPU",
    "colab": {
      "name": "ImageSuperResolutionSRCNN.ipynb",
      "provenance": [],
      "collapsed_sections": [],
      "authorship_tag": "ABX9TyMq1sXtKoCbAbs8fQEZfCB9",
      "include_colab_link": true
    },
    "kernelspec": {
      "display_name": "Python 3",
      "name": "python3"
    }
  },
  "cells": [
    {
      "cell_type": "markdown",
      "metadata": {
        "id": "view-in-github",
        "colab_type": "text"
      },
      "source": [
        "<a href=\"https://colab.research.google.com/github/CanKeles5/ImproveImgQuality/blob/main/ImageSuperResolutionSRCNN.ipynb\" target=\"_parent\"><img src=\"https://colab.research.google.com/assets/colab-badge.svg\" alt=\"Open In Colab\"/></a>"
      ]
    },
    {
      "cell_type": "code",
      "metadata": {
        "id": "h_H3szjGFxHH"
      },
      "source": [
        "%reload_ext autoreload\r\n",
        "%autoreload 2\r\n",
        "%matplotlib inline"
      ],
      "execution_count": null,
      "outputs": []
    },
    {
      "cell_type": "code",
      "metadata": {
        "id": "tjoHT3nhFyQk"
      },
      "source": [
        "import torch\r\n",
        "import torch.nn as nn\r\n",
        "import torch.nn.functional as F\r\n",
        "import torchvision\r\n",
        "import torchvision.datasets as datasets\r\n",
        "import torchvision.transforms as transforms\r\n",
        "import matplotlib.pyplot as plt\r\n",
        "import torch.utils.data.sampler\r\n",
        "import torchvision.transforms.functional as TF\r\n",
        "from torch.utils.data import DataLoader\r\n",
        "from torch.utils.data import Dataset\r\n",
        "from PIL import Image, ImageFilter\r\n",
        "import os\r\n",
        "import cv2\r\n",
        "import numpy\r\n",
        "import random\r\n",
        "import fnmatch\r\n",
        "import numpy as np\r\n",
        "import sys"
      ],
      "execution_count": null,
      "outputs": []
    },
    {
      "cell_type": "code",
      "metadata": {
        "colab": {
          "base_uri": "https://localhost:8080/"
        },
        "id": "T-xJ_uhdFyOW",
        "outputId": "d9b7c5d7-abe1-40dc-b74f-2dede34274ce"
      },
      "source": [
        "device = torch.device(\"cuda:0\" if torch.cuda.is_available() else \"cpu\")\r\n",
        "print(device)"
      ],
      "execution_count": null,
      "outputs": [
        {
          "output_type": "stream",
          "text": [
            "cuda:0\n"
          ],
          "name": "stdout"
        }
      ]
    },
    {
      "cell_type": "code",
      "metadata": {
        "id": "nnFOC3JQFyL-"
      },
      "source": [
        "! mkdir -p ~/.kaggle/\r\n",
        "! mv kaggle.json ~/.kaggle/"
      ],
      "execution_count": null,
      "outputs": []
    },
    {
      "cell_type": "code",
      "metadata": {
        "colab": {
          "base_uri": "https://localhost:8080/"
        },
        "id": "J_m9GlW1FyJs",
        "outputId": "e4e320db-6445-4a79-d921-666b9a32e548"
      },
      "source": [
        "! kaggle datasets download -d jessicali9530/celeba-dataset"
      ],
      "execution_count": null,
      "outputs": [
        {
          "output_type": "stream",
          "text": [
            "Warning: Your Kaggle API key is readable by other users on this system! To fix this, you can run 'chmod 600 /root/.kaggle/kaggle.json'\n",
            "Downloading celeba-dataset.zip to /content\n",
            " 98% 1.31G/1.33G [00:12<00:00, 97.0MB/s]\n",
            "100% 1.33G/1.33G [00:12<00:00, 114MB/s] \n"
          ],
          "name": "stdout"
        }
      ]
    },
    {
      "cell_type": "code",
      "metadata": {
        "id": "6uC4p5HTFyHT"
      },
      "source": [
        "path = \"/content/celeba-dataset.zip\"\r\n",
        "to = \"/content/dataset\"\r\n",
        "! unzip -q -n {path} -d {to}"
      ],
      "execution_count": null,
      "outputs": []
    },
    {
      "cell_type": "code",
      "metadata": {
        "colab": {
          "base_uri": "https://localhost:8080/"
        },
        "id": "KRn6OCBfFyFO",
        "outputId": "915103e3-f092-4aec-e37d-5d6c98216362"
      },
      "source": [
        "im_path = \"/content/dataset/img_align_celeba.zip\"\r\n",
        "imgs = \"/content/images\"\r\n",
        "! unzip -q -n {im_path} -d {imgs}"
      ],
      "execution_count": null,
      "outputs": [
        {
          "output_type": "stream",
          "text": [
            "unzip:  cannot find or open /content/dataset/img_align_celeba.zip, /content/dataset/img_align_celeba.zip.zip or /content/dataset/img_align_celeba.zip.ZIP.\n"
          ],
          "name": "stdout"
        }
      ]
    },
    {
      "cell_type": "code",
      "metadata": {
        "id": "3UVineyFFyDK"
      },
      "source": [
        "folder = \"/content/dataset/img_align_celeba/img_align_celeba\""
      ],
      "execution_count": null,
      "outputs": []
    },
    {
      "cell_type": "code",
      "metadata": {
        "id": "VAFnHuJtFyAp"
      },
      "source": [
        "image_paths = []\r\n",
        "\r\n",
        "for (path, dirnames, filenames) in os.walk(folder):\r\n",
        "  image_paths.extend(os.path.join(path, name) for name in filenames)"
      ],
      "execution_count": null,
      "outputs": []
    },
    {
      "cell_type": "code",
      "metadata": {
        "id": "mpk8VwDzmPov"
      },
      "source": [
        "class MyDataset(Dataset):\r\n",
        "  def __init__(self, image_paths, train=True):\r\n",
        "    self.image_paths = image_paths\r\n",
        "    \r\n",
        "  def transform(self, image):\r\n",
        "    resize = transforms.Resize(size=(128, 128))\r\n",
        "    image = resize(image)\r\n",
        "    image = TF.to_tensor(image)\r\n",
        "    \r\n",
        "    return image\r\n",
        "\r\n",
        "  def __getitem__(self, index):\r\n",
        "    image = Image.open(self.image_paths[index])\r\n",
        "    x = self.transform(image)\r\n",
        "\r\n",
        "    return x\r\n",
        "  \r\n",
        "  def __len__(self):\r\n",
        "    return len(self.image_paths)"
      ],
      "execution_count": null,
      "outputs": []
    },
    {
      "cell_type": "code",
      "metadata": {
        "colab": {
          "base_uri": "https://localhost:8080/"
        },
        "id": "wrSJnQuNF_en",
        "outputId": "32c40a2e-df38-4bbf-9dec-71884b545a4b"
      },
      "source": [
        "'''\r\n",
        "class MyDataset(Dataset):\r\n",
        "  def __init__(self, image_paths, train=True):\r\n",
        "    self.image_paths = image_paths\r\n",
        "    \r\n",
        "  def transform(self, image):\r\n",
        "    resize = transforms.Resize(size=(128, 128))\r\n",
        "    image = resize(image)\r\n",
        "    image = TF.to_tensor(image)\r\n",
        "    \r\n",
        "    #image = resize_up(image)\r\n",
        "    #image = resize_down(image)\r\n",
        "    #image = resize_up(image)\r\n",
        "\r\n",
        "    return image\r\n",
        "\r\n",
        "  def __getitem__(self, index):\r\n",
        "    #image = Image.open(self.image_paths[index]) #open the image as PIL image\r\n",
        "    orig_image = cv2.imread(self.image_paths[index], cv2.IMREAD_COLOR)\r\n",
        "    orig_image = cv2.cvtColor(orig_image, cv2.COLOR_BGR2RGB)\r\n",
        "\r\n",
        "    orig_image = orig_image[0:217, 0:177]\r\n",
        "\r\n",
        "    #height, width = orig_image.shape[:2]\r\n",
        "    #print(height, width)\r\n",
        "\r\n",
        "    augmented_image = cv2.GaussianBlur(orig_image, (21, 21), 0)\r\n",
        "    x = self.transform(orig_image)\r\n",
        "    y = self.transform(augmented_image)\r\n",
        "\r\n",
        "    #print(\"x.shape: \", x.shape)\r\n",
        "    #print(\"y.shape: \", y.shape)\r\n",
        "\r\n",
        "    return x, y\r\n",
        "  \r\n",
        "  def __len__(self):\r\n",
        "    return len(self.image_paths)\r\n",
        "'''"
      ],
      "execution_count": null,
      "outputs": [
        {
          "output_type": "execute_result",
          "data": {
            "application/vnd.google.colaboratory.intrinsic+json": {
              "type": "string"
            },
            "text/plain": [
              "'\\nclass MyDataset(Dataset):\\n  def __init__(self, image_paths, train=True):\\n    self.image_paths = image_paths\\n    \\n  def transform(self, image):\\n    resize = transforms.Resize(size=(128, 128))\\n    image = resize(image)\\n    image = TF.to_tensor(image)\\n    \\n    #image = resize_up(image)\\n    #image = resize_down(image)\\n    #image = resize_up(image)\\n\\n    return image\\n\\n  def __getitem__(self, index):\\n    #image = Image.open(self.image_paths[index]) #open the image as PIL image\\n    orig_image = cv2.imread(self.image_paths[index], cv2.IMREAD_COLOR)\\n    orig_image = cv2.cvtColor(orig_image, cv2.COLOR_BGR2RGB)\\n\\n    orig_image = orig_image[0:217, 0:177]\\n\\n    #height, width = orig_image.shape[:2]\\n    #print(height, width)\\n\\n    augmented_image = cv2.GaussianBlur(orig_image, (21, 21), 0)\\n    x = self.transform(orig_image)\\n    y = self.transform(augmented_image)\\n\\n    #print(\"x.shape: \", x.shape)\\n    #print(\"y.shape: \", y.shape)\\n\\n    return x, y\\n  \\n  def __len__(self):\\n    return len(self.image_paths)\\n'"
            ]
          },
          "metadata": {
            "tags": []
          },
          "execution_count": 11
        }
      ]
    },
    {
      "cell_type": "code",
      "metadata": {
        "colab": {
          "base_uri": "https://localhost:8080/"
        },
        "id": "zT8H9drPF_au",
        "outputId": "51e823a5-b3dc-4916-ed84-babde12bbf89"
      },
      "source": [
        "print(len(image_paths))"
      ],
      "execution_count": null,
      "outputs": [
        {
          "output_type": "stream",
          "text": [
            "202599\n"
          ],
          "name": "stdout"
        }
      ]
    },
    {
      "cell_type": "code",
      "metadata": {
        "id": "fPNxZjxHF_X7"
      },
      "source": [
        "train_paths = image_paths[0:10000]\r\n",
        "valid_paths = image_paths[10001:12001]"
      ],
      "execution_count": null,
      "outputs": []
    },
    {
      "cell_type": "code",
      "metadata": {
        "id": "IMkmLysfF_Vi"
      },
      "source": [
        "train_set = MyDataset(train_paths)"
      ],
      "execution_count": null,
      "outputs": []
    },
    {
      "cell_type": "code",
      "metadata": {
        "id": "jVqvCVgkF_Sd"
      },
      "source": [
        "valid_set = MyDataset(valid_paths)"
      ],
      "execution_count": null,
      "outputs": []
    },
    {
      "cell_type": "code",
      "metadata": {
        "id": "zj57Zk_qF_QV"
      },
      "source": [
        "bs=4"
      ],
      "execution_count": null,
      "outputs": []
    },
    {
      "cell_type": "code",
      "metadata": {
        "id": "-4Urmi4xF_N5"
      },
      "source": [
        "train_loader = DataLoader(train_set, batch_size=bs)\r\n",
        "valid_loader = DataLoader(valid_set, batch_size=bs)"
      ],
      "execution_count": null,
      "outputs": []
    },
    {
      "cell_type": "code",
      "metadata": {
        "id": "pZzOJ3F4F_KB"
      },
      "source": [
        "class DeblurCNN(nn.Module):\r\n",
        "    def __init__(self):\r\n",
        "        super(DeblurCNN, self).__init__()\r\n",
        "\r\n",
        "        self.conv1 = nn.Conv2d(3, 64, kernel_size=9, padding=2)\r\n",
        "        self.conv2 = nn.Conv2d(64, 32, kernel_size=1, padding=2)\r\n",
        "        self.conv3 = nn.Conv2d(32, 3, kernel_size=5, padding=2)\r\n",
        "\r\n",
        "    def forward(self, x):\r\n",
        "        x = F.relu(self.conv1(x))\r\n",
        "        x = F.relu(self.conv2(x))\r\n",
        "        x = self.conv3(x)\r\n",
        "\r\n",
        "        return x"
      ],
      "execution_count": null,
      "outputs": []
    },
    {
      "cell_type": "code",
      "metadata": {
        "id": "Gk6OD8m6GTWO"
      },
      "source": [
        "class SRCNN(nn.Module):\r\n",
        "    def __init__(self):\r\n",
        "        super(SRCNN, self).__init__()\r\n",
        "\r\n",
        "        self.conv1 = nn.Conv2d(3, 64, kernel_size=9, padding=2, padding_mode='replicate')\r\n",
        "        self.conv2 = nn.Conv2d(64, 32, kernel_size=1, padding=2, padding_mode='replicate')\r\n",
        "        self.conv3 = nn.Conv2d(32, 3, kernel_size=5, padding=2, padding_mode='replicate')\r\n",
        "\r\n",
        "    def forward(self, x):\r\n",
        "        x = F.relu(self.conv1(x))\r\n",
        "        x = F.relu(self.conv2(x))\r\n",
        "        x = self.conv3(x)\r\n",
        "\r\n",
        "        return x"
      ],
      "execution_count": null,
      "outputs": []
    },
    {
      "cell_type": "code",
      "metadata": {
        "id": "6dkb8i74GTTw"
      },
      "source": [
        "#Generator = G().to(device)\r\n",
        "Generator = SRCNN().to(device)\r\n",
        "#Discriminator = D().to(device)"
      ],
      "execution_count": null,
      "outputs": []
    },
    {
      "cell_type": "code",
      "metadata": {
        "id": "6zsrlDNZGTQe"
      },
      "source": [
        "def weights_init(m):\r\n",
        "    if isinstance(m, nn.Conv2d):\r\n",
        "        m.weight.data.normal_(0, 0.02)\r\n",
        "        m.bias.data.normal_(0, 0.001)"
      ],
      "execution_count": null,
      "outputs": []
    },
    {
      "cell_type": "code",
      "metadata": {
        "id": "6iDeuZlYGTOB"
      },
      "source": [
        "weights_init(Generator)\r\n",
        "#weights_init(Discriminator)"
      ],
      "execution_count": null,
      "outputs": []
    },
    {
      "cell_type": "code",
      "metadata": {
        "colab": {
          "base_uri": "https://localhost:8080/"
        },
        "id": "vJE8Gu6YGTLW",
        "outputId": "2237b8e0-9adc-4368-f58d-940e95ccd297"
      },
      "source": [
        "print(\"Number of parameters in Generator: \", sum([p.numel() for p in Generator.parameters()]))\r\n",
        "#print(\"Number of parameters in Discriminator: \", sum([p.numel() for p in Discriminator.parameters()]))"
      ],
      "execution_count": null,
      "outputs": [
        {
          "output_type": "stream",
          "text": [
            "Number of parameters in Generator:  20099\n"
          ],
          "name": "stdout"
        }
      ]
    },
    {
      "cell_type": "code",
      "metadata": {
        "id": "_HgvdOnHGTIu"
      },
      "source": [
        "criterion = nn.BCELoss()\r\n",
        "adv_criterion = nn.BCELoss()\r\n",
        "l1_criterion = nn.MSELoss()\r\n",
        "G_optim = torch.optim.Adam(Generator.parameters(), lr=1e-3)\r\n",
        "#D_optim = torch.optim.Adam(Discriminator.parameters(), lr=1e-5)"
      ],
      "execution_count": null,
      "outputs": []
    },
    {
      "cell_type": "code",
      "metadata": {
        "colab": {
          "base_uri": "https://localhost:8080/"
        },
        "id": "KyRCrsifGgSz",
        "outputId": "b2b419ce-d488-4afa-bd52-9f895bb5f503"
      },
      "source": [
        "#Discriminator.train()\r\n",
        "Generator.train()"
      ],
      "execution_count": null,
      "outputs": [
        {
          "output_type": "execute_result",
          "data": {
            "text/plain": [
              "SRCNN(\n",
              "  (conv1): Conv2d(3, 64, kernel_size=(9, 9), stride=(1, 1), padding=(2, 2), padding_mode=replicate)\n",
              "  (conv2): Conv2d(64, 32, kernel_size=(1, 1), stride=(1, 1), padding=(2, 2), padding_mode=replicate)\n",
              "  (conv3): Conv2d(32, 3, kernel_size=(5, 5), stride=(1, 1), padding=(2, 2), padding_mode=replicate)\n",
              ")"
            ]
          },
          "metadata": {
            "tags": []
          },
          "execution_count": 24
        }
      ]
    },
    {
      "cell_type": "code",
      "metadata": {
        "id": "HC9VmvYFGgPc"
      },
      "source": [
        "def save_pic(epoch_no, im):\r\n",
        "  Generator.eval()\r\n",
        "  \r\n",
        "  im = im.unsqueeze(0).to(device)\r\n",
        "\r\n",
        "  output = Generator(im)\r\n",
        "  \r\n",
        "  output = output[0].detach().cpu()\r\n",
        "  output = (output+1)/2\r\n",
        "  output = output.clamp(0.0, 1.0)\r\n",
        "\r\n",
        "  PIL_img = transforms.ToPILImage()(output)\r\n",
        "  PIL_img = PIL_img.save(str(epoch_no) + \".jpg\")\r\n",
        "  Generator.train()"
      ],
      "execution_count": null,
      "outputs": []
    },
    {
      "cell_type": "code",
      "metadata": {
        "id": "TlWIWIBbGgL9"
      },
      "source": [
        "D_losses_train = []\r\n",
        "G_losses_train = []\r\n",
        "\r\n",
        "D_losses_valid = []\r\n",
        "G_losses_valid = []"
      ],
      "execution_count": null,
      "outputs": []
    },
    {
      "cell_type": "code",
      "metadata": {
        "id": "eX1QHBCMGgJq"
      },
      "source": [
        "def shuffle_data(fake_im, real_im):\r\n",
        "  batch_size=fake_im.shape[0]\r\n",
        "\r\n",
        "  data=torch.cat((fake_im, real_im),dim=0)\r\n",
        "  labels=torch.cat((torch.zeros(batch_size), torch.ones(batch_size)))\r\n",
        "  \r\n",
        "  return data, labels"
      ],
      "execution_count": null,
      "outputs": []
    },
    {
      "cell_type": "code",
      "metadata": {
        "colab": {
          "base_uri": "https://localhost:8080/"
        },
        "id": "GXcTdOeRUdd0",
        "outputId": "2d22aed3-3285-40f6-e1bb-32d917128693"
      },
      "source": [
        "n_epochs = 50\r\n",
        "\r\n",
        "adv_coeff = 0.00\r\n",
        "\r\n",
        "for epoch in range(n_epochs):\r\n",
        "  D_train_loss = 0.0\r\n",
        "  G_train_loss = 0.0\r\n",
        "\r\n",
        "  D_valid_loss = 0.0\r\n",
        "  G_valid_loss = 0.0\r\n",
        "\r\n",
        "  Generator.train()\r\n",
        "\r\n",
        "  for i, real_im in enumerate(train_loader):\r\n",
        "    (transforms.ToPILImage()(real_im[0])).save(\"real_im\" + str(epoch) + \".jpg\")\r\n",
        "    real_im = (real_im*2.0)-1\r\n",
        "\r\n",
        "    augmented_im = real_im.clone()\r\n",
        "    augmented_im = transforms.Resize(size=(64, 64))(augmented_im)\r\n",
        "    augmented_im = transforms.Resize(size=(128, 128))(augmented_im)\r\n",
        "\r\n",
        "    (transforms.ToPILImage()(augmented_im[0])).save(\"augmented_im\" + str(epoch) + \".jpg\")\r\n",
        "\r\n",
        "    augmented_im = augmented_im.to(device)\r\n",
        "    real_im = real_im.type(torch.FloatTensor)\r\n",
        "    real_im=real_im.to(device)\r\n",
        "    \r\n",
        "    if i==0:\r\n",
        "      save_pic(epoch, augmented_im[0])\r\n",
        "    \r\n",
        "    ##########MSE loss update############\r\n",
        "    G_optim.zero_grad()\r\n",
        "    fake_img = Generator(augmented_im)\r\n",
        "\r\n",
        "    G_loss_l1 = l1_criterion(fake_img, real_im)\r\n",
        "    G_train_loss += G_loss_l1.item() #for plotting loss\r\n",
        "    G_loss_l1.backward(retain_graph=True)\r\n",
        "    G_optim.step()\r\n",
        "    \r\n",
        "    ####################################\r\n",
        "    \r\n",
        "    ###########################################\r\n",
        "  \r\n",
        "  Generator.eval()\r\n",
        "  \r\n",
        "  with torch.no_grad():\r\n",
        "    for i, (real_im) in enumerate(valid_loader):\r\n",
        "      if(real_im.shape[0]!=bs):\r\n",
        "        break\r\n",
        "\r\n",
        "      real_im = 2*real_im-1\r\n",
        "      \r\n",
        "      augmented_im = real_im.clone()\r\n",
        "      augmented_im = transforms.Resize(size=(64, 64))(augmented_im)\r\n",
        "      augmented_im = transforms.Resize(size=(128, 128))(augmented_im)\r\n",
        "\r\n",
        "      augmented_im = augmented_im.to(device)\r\n",
        "      real_im=real_im.to(device)\r\n",
        "\r\n",
        "      fake_img = Generator(augmented_im)\r\n",
        "\r\n",
        "      if i==0:\r\n",
        "        save_pic(epoch, augmented_im[0])\r\n",
        "\r\n",
        "      l1_loss = l1_criterion(fake_img, real_im)\r\n",
        "      G_loss = l1_loss\r\n",
        "      G_valid_loss += G_loss.item()\r\n",
        "  \r\n",
        "  G_train_loss = G_train_loss/len(train_set)\r\n",
        "  G_valid_loss = G_valid_loss/len(valid_set)\r\n",
        "  G_losses_train.append(G_train_loss)\r\n",
        "  G_losses_valid.append(G_valid_loss)\r\n",
        "  \r\n",
        "  print(\"Epoch \" + str(epoch) + \", Train: \" + str(G_train_loss) + \" , Validation: \" + str(G_valid_loss))\r\n"
      ],
      "execution_count": null,
      "outputs": [
        {
          "output_type": "stream",
          "text": [
            "Epoch 0, Train: 0.0011531373978359626 , Validation: 0.0006347546695615165\n",
            "Epoch 1, Train: 0.0006652078674989752 , Validation: 0.0005769579625339248\n",
            "Epoch 2, Train: 0.0006132089428254403 , Validation: 0.0005185888180858455\n",
            "Epoch 3, Train: 0.0006107318962749559 , Validation: 0.0004907206977077294\n",
            "Epoch 4, Train: 0.0006263606774329673 , Validation: 0.0004856831343786325\n",
            "Epoch 5, Train: 0.0005552607267047279 , Validation: 0.00047517689657979647\n",
            "Epoch 6, Train: 0.0005411825656774454 , Validation: 0.0004694120936910622\n",
            "Epoch 7, Train: 0.0005460681404569186 , Validation: 0.00045643653624574654\n",
            "Epoch 8, Train: 0.0005325925338431262 , Validation: 0.0004813818864058703\n",
            "Epoch 9, Train: 0.0006245678470644634 , Validation: 0.0004914460101572331\n",
            "Epoch 10, Train: 0.0004985864857619162 , Validation: 0.00045951001506182364\n",
            "Epoch 11, Train: 0.0005956087315105833 , Validation: 0.0005129470498359297\n",
            "Epoch 12, Train: 0.0005428203269839287 , Validation: 0.0004712594415759668\n",
            "Epoch 13, Train: 0.000500204061169643 , Validation: 0.00043533535033930094\n",
            "Epoch 14, Train: 0.000634972678363556 , Validation: 0.0004903582915430888\n",
            "Epoch 15, Train: 0.0004928559249208775 , Validation: 0.00046154422382824124\n",
            "Epoch 16, Train: 0.00047623186137061565 , Validation: 0.0004389295585860964\n",
            "Epoch 17, Train: 0.0005447101349069271 , Validation: 0.0004576382177765481\n",
            "Epoch 18, Train: 0.0005002672027272638 , Validation: 0.00047161282450542785\n",
            "Epoch 19, Train: 0.0005812665863137226 , Validation: 0.00048266527397208847\n",
            "Epoch 20, Train: 0.00047188288922188804 , Validation: 0.00044505696909618567\n",
            "Epoch 21, Train: 0.0004733563731017057 , Validation: 0.0004237842429720331\n",
            "Epoch 22, Train: 0.0004468120452889707 , Validation: 0.0004119035889452789\n",
            "Epoch 23, Train: 0.0005125129421998282 , Validation: 0.00043035365777905097\n",
            "Epoch 24, Train: 0.00048211985001107675 , Validation: 0.0004061111818882637\n",
            "Epoch 25, Train: 0.0005955501825141255 , Validation: 0.0004689006629632786\n",
            "Epoch 26, Train: 0.0006346218125720043 , Validation: 0.0004853143006330356\n",
            "Epoch 27, Train: 0.00048350461711524985 , Validation: 0.00044575327009079046\n",
            "Epoch 28, Train: 0.0005366051014803816 , Validation: 0.0004422858725883998\n",
            "Epoch 29, Train: 0.0004301876339886803 , Validation: 0.00042068479742738416\n",
            "Epoch 30, Train: 0.0004438283708936069 , Validation: 0.00040128596607246435\n",
            "Epoch 31, Train: 0.0004699978919874411 , Validation: 0.00041479951719520613\n",
            "Epoch 32, Train: 0.00041542956935591065 , Validation: 0.0003833411413943395\n",
            "Epoch 33, Train: 0.0007089458862436004 , Validation: 0.000446672859688988\n",
            "Epoch 34, Train: 0.0004621344499464612 , Validation: 0.00041903487348463384\n",
            "Epoch 35, Train: 0.0004743724501633551 , Validation: 0.0004143894672452006\n",
            "Epoch 36, Train: 0.00042320410981774333 , Validation: 0.0003898859599721618\n",
            "Epoch 37, Train: 0.000474979644571431 , Validation: 0.00038920649458304977\n",
            "Epoch 38, Train: 0.00046037964019342325 , Validation: 0.00038877161321579476\n",
            "Epoch 39, Train: 0.0004923945096379611 , Validation: 0.00042405028507346286\n",
            "Epoch 40, Train: 0.00043134432854130864 , Validation: 0.000389686162059661\n",
            "Epoch 41, Train: 0.00046035195506410675 , Validation: 0.00043219036236405374\n",
            "Epoch 42, Train: 0.00047770523497019893 , Validation: 0.00045911285624606533\n",
            "Epoch 42, Train: 0.00047770523497019893 , Validation: 0.00045911285624606533\n",
            "Epoch 43, Train: 0.0004154485725041013 , Validation: 0.00042296441784128545\n",
            "Epoch 43, Train: 0.0004154485725041013 , Validation: 0.00042296441784128545\n",
            "Epoch 44, Train: 0.0007738801353203599 , Validation: 0.0005357325664081146\n",
            "Epoch 44, Train: 0.0007738801353203599 , Validation: 0.0005357325664081146\n",
            "Epoch 45, Train: 0.0004937360507203266 , Validation: 0.0004171222058357671\n",
            "Epoch 45, Train: 0.0004937360507203266 , Validation: 0.0004171222058357671\n",
            "Epoch 46, Train: 0.0004458168400626164 , Validation: 0.0003924887716420926\n",
            "Epoch 46, Train: 0.0004458168400626164 , Validation: 0.0003924887716420926\n",
            "Epoch 47, Train: 0.0004876707845018245 , Validation: 0.00044207203714177013\n",
            "Epoch 47, Train: 0.0004876707845018245 , Validation: 0.00044207203714177013\n",
            "Epoch 48, Train: 0.00043795352360466493 , Validation: 0.0003987142764672171\n",
            "Epoch 48, Train: 0.00043795352360466493 , Validation: 0.0003987142764672171\n",
            "Epoch 49, Train: 0.0004543656747264322 , Validation: 0.00041746477590641007\n",
            "Epoch 49, Train: 0.0004543656747264322 , Validation: 0.00041746477590641007\n"
          ],
          "name": "stdout"
        }
      ]
    },
    {
      "cell_type": "code",
      "metadata": {
        "id": "PuvVBpxsGgDY",
        "colab": {
          "base_uri": "https://localhost:8080/",
          "height": 282
        },
        "outputId": "a3a23b24-46b4-4ff0-d6d9-c37c099c8b1e"
      },
      "source": [
        "plt.plot(G_losses_train)\r\n",
        "plt.plot(G_losses_valid)"
      ],
      "execution_count": null,
      "outputs": [
        {
          "output_type": "execute_result",
          "data": {
            "text/plain": [
              "[<matplotlib.lines.Line2D at 0x7fa7f4d4a828>]"
            ]
          },
          "metadata": {
            "tags": []
          },
          "execution_count": 29
        },
        {
          "output_type": "display_data",
          "data": {
            "image/png": "[encoded data removed]",
            "text/plain": [
              "<Figure size 432x288 with 1 Axes>"
            ]
          },
          "metadata": {
            "tags": [],
            "needs_background": "light"
          }
        }
      ]
    },
    {
      "cell_type": "code",
      "metadata": {
        "id": "Kwv27pidGrF5"
      },
      "source": [
        "def test_model():\r\n",
        "\r\n",
        "  Generator.eval()\r\n",
        "\r\n",
        "  for i in range(10):\r\n",
        "    real_im = valid_set[i]\r\n",
        "    #image = transforms.ToTensor()(image)\r\n",
        "    #image = image.type(torch.FloatTensor)\r\n",
        "    #image = image.unsqueeze(0)\r\n",
        "    #image = image*2.0-1\r\n",
        "\r\n",
        "    #transforms.ToPILImage()((image[0]+1)/2).save(\"real\"+str(i)+\".jpg\")\r\n",
        "    transforms.ToPILImage()(real_im).save(\"original\"+str(i)+\".jpg\")\r\n",
        "\r\n",
        "    augmented_im = real_im.clone()\r\n",
        "    augmented_im = transforms.Resize(size=(64, 64))(augmented_im)\r\n",
        "    augmented_im = transforms.Resize(size=(128, 128))(augmented_im)\r\n",
        "\r\n",
        "    augmented_im = augmented_im.unsqueeze(0)\r\n",
        "    #print(augmented_im.shape)\r\n",
        "\r\n",
        "    transforms.ToPILImage()(augmented_im[0]).save(\"input\"+str(i)+\".jpg\")\r\n",
        "\r\n",
        "    output = Generator(augmented_im.cuda())\r\n",
        "    #output = (output+1)/2\r\n",
        "    output = output.clamp(0.0, 1.0)\r\n",
        "    transforms.ToPILImage()(output[0].detach().cpu()).save(\"result\" + str(i) + \".jpg\")\r\n",
        "\r\n",
        "  Generator.train()"
      ],
      "execution_count": null,
      "outputs": []
    },
    {
      "cell_type": "code",
      "metadata": {
        "id": "SnvCB81LGrDs"
      },
      "source": [
        "test_model()"
      ],
      "execution_count": null,
      "outputs": []
    },
    {
      "cell_type": "code",
      "metadata": {
        "id": "JSb35qOgD1hp"
      },
      "source": [
        ""
      ],
      "execution_count": null,
      "outputs": []
    }
  ]
}